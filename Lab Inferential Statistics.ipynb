{
 "cells": [
  {
   "cell_type": "markdown",
   "metadata": {},
   "source": [
    "Lab | Inferential statistics\n",
    "Instructions\n",
    "It is assumed that the mean systolic blood pressure is μ = 120 mm Hg. In the Honolulu Heart Study, a sample of n = 100 people had an average systolic blood pressure of 130.1 mm Hg with a standard deviation of 21.21 mm Hg. Is the group significantly different (with respect to systolic blood pressure!) from the regular population?\n",
    "\n",
    "Set up the hypothesis test.\n",
    "Write down all the steps followed for setting up the test.\n",
    "Calculate the test statistic by hand and also code it in Python. It should be 4.76190. We will take a look at how to make decisions based on this calculated value."
   ]
  },
  {
   "cell_type": "code",
   "execution_count": 2,
   "metadata": {},
   "outputs": [],
   "source": [
    "import pandas as pd\n",
    "# Leemos y exploramos los datos\n",
    "df=pd.read_csv(r\"C:\\Users\\anasa\\Desktop\\Ana\\IRONHACK\\Labs\\Python ll\\Lab Inferential Statistics\\breast-cancer.csv\")"
   ]
  },
  {
   "cell_type": "code",
   "execution_count": 5,
   "metadata": {},
   "outputs": [
    {
     "name": "stdout",
     "output_type": "stream",
     "text": [
      "Test Statistic (t): 4.761904761904759\n"
     ]
    }
   ],
   "source": [
    "import numpy as np\n",
    "from scipy import stats\n",
    "\n",
    "# Given values\n",
    "mu = 120  # population mean\n",
    "x_bar = 130.1  # sample mean\n",
    "s = 21.21  # sample standard deviation\n",
    "n = 100  # sample size\n",
    "\n",
    "# Calculate the test statistic\n",
    "sem = s / np.sqrt(n)  # standard error of the mean\n",
    "t_statistic = (x_bar - mu) / sem\n",
    "\n",
    "print(\"Test Statistic (t):\", t_statistic)\n"
   ]
  },
  {
   "cell_type": "markdown",
   "metadata": {},
   "source": [
    "l estadístico de prueba \n",
    "𝑡\n",
    "t es una medida que indica cuánto difiere la media de la muestra (130.1 mm Hg) de la media poblacional asumida (120 mm Hg), ajustada por el tamaño de la muestra y la desviación estándar de la muestra. En este caso, se obtuvo un valor de \n",
    "𝑡\n",
    "=\n",
    "4.76190\n",
    "t=4.76190."
   ]
  },
  {
   "cell_type": "markdown",
   "metadata": {},
   "source": [
    "Conclusión Final:\n",
    "Por lo tanto, con un nivel de confianza del 95%, hay suficiente evidencia estadística para concluir que la media de la presión arterial sistólica del grupo de muestra en el Estudio del Corazón de Honolulu es significativamente diferente de la media poblacional asumida de 120 mm Hg. En otras palabras, el grupo de muestra muestra una diferencia estadísticamente significativa en la presión arterial sistólica en comparación con la población general."
   ]
  },
  {
   "cell_type": "markdown",
   "metadata": {},
   "source": [
    "2. If you finished the previous question, please go through the code for principal_component_analysis_example provided in the files_for_lab folder ."
   ]
  },
  {
   "cell_type": "code",
   "execution_count": null,
   "metadata": {},
   "outputs": [],
   "source": []
  }
 ],
 "metadata": {
  "kernelspec": {
   "display_name": "Python 3",
   "language": "python",
   "name": "python3"
  },
  "language_info": {
   "codemirror_mode": {
    "name": "ipython",
    "version": 3
   },
   "file_extension": ".py",
   "mimetype": "text/x-python",
   "name": "python",
   "nbconvert_exporter": "python",
   "pygments_lexer": "ipython3",
   "version": "3.11.1"
  }
 },
 "nbformat": 4,
 "nbformat_minor": 2
}
